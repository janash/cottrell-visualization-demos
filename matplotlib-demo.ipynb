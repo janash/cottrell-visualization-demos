{
 "cells": [
  {
   "cell_type": "markdown",
   "metadata": {},
   "source": [
    "# Cottrell Visualization Demo - matplotlib\n",
    "\n",
    "This demo shows some visualization examples for the python libraries [matplotlib](https://matplotlib.org/) and [plotly](https://plotly.com) using Hydrogen atom orbitals as example data. For each library, 1D line plots, 2D contour plots, and 3D surface plots are considered."
   ]
  },
  {
   "cell_type": "code",
   "execution_count": null,
   "metadata": {},
   "outputs": [],
   "source": [
    "import numpy as np\n",
    "import itertools\n",
    "\n",
    "import matplotlib.pyplot as plt\n",
    "\n",
    "from wavefunctions import spherical_to_cartesian, cartesian_to_spherical, wavefunction"
   ]
  },
  {
   "cell_type": "markdown",
   "metadata": {
    "tags": []
   },
   "source": [
    "# Making Plots with matplotlib\n",
    "\n",
    "matplotlib is one of the oldest and most popular python plotting libraries (started 2003). Can be used with an interface that uses figure objects, or with a \"procedural\" interface which is made to mimic Matlab's plotting interface."
   ]
  },
  {
   "cell_type": "code",
   "execution_count": null,
   "metadata": {},
   "outputs": [],
   "source": [
    "# Generate sample data for line plot section\n",
    "\n",
    "r = np.linspace(0, 15, 30)\n",
    "\n",
    "s_wavefunctions = []\n",
    "for i in range(1, 4):\n",
    "    s_wavefunctions.append(wavefunction(i, 0, 0)(r))"
   ]
  },
  {
   "cell_type": "code",
   "execution_count": null,
   "metadata": {},
   "outputs": [],
   "source": [
    "# Demonstration of line plots with matplotlib\n",
    "\n",
    "# You can make a matplotlib graph more interactive by using %matplotlib notebook. This also adds a label over\n",
    "# the figure (Figure 1, Figure 2, etc.)\n",
    "%matplotlib notebook\n",
    "\n",
    "# Procedural interface - each command adds to the active figure.\n",
    "plt.figure() # Creates a new figure.\n",
    "plt.plot(r, s_wavefunctions[0], label='1s')\n",
    "plt.plot(r, s_wavefunctions[1], label='2s')\n",
    "plt.plot(r, s_wavefunctions[2], label='3s')\n",
    "plt.xlim(0, 10)\n",
    "plt.legend()"
   ]
  },
  {
   "cell_type": "code",
   "execution_count": null,
   "metadata": {},
   "outputs": [],
   "source": [
    "# We can make the same plot using figure objects\n",
    "\n",
    "fig = plt.figure()\n",
    "ax = fig.add_subplot(111)\n",
    "ax.plot(r, s_wavefunctions[0], label='1s')\n",
    "ax.plot(r, s_wavefunctions[1], label='2s')\n",
    "ax.plot(r, s_wavefunctions[2], label='3s')\n",
    "ax.set_xlim(0, 10)\n",
    "ax.legend()"
   ]
  },
  {
   "cell_type": "code",
   "execution_count": null,
   "metadata": {},
   "outputs": [],
   "source": [
    "# These seem pretty similar, but the figure object interface comes in handy when working with subplots.\n",
    "\n",
    "# We can use the figure object interface to create a plot with multiple subplots. \n",
    "fig, ax = plt.subplots(1,3) # First argument is the number of rows, seconds is number of columns.\n",
    "\n",
    "# ax is a list of the axes, you can add data to them the same way you did above\n",
    "ax[0].plot(r, s_wavefunctions[0], label='1s')\n",
    "ax[1].plot(r, s_wavefunctions[1], label='2s')\n",
    "ax[2].plot(r, s_wavefunctions[2], label='3s')\n",
    "\n",
    "# Use tight_layout to avoid overlapping labels\n",
    "plt.tight_layout()"
   ]
  },
  {
   "cell_type": "markdown",
   "metadata": {},
   "source": [
    "### Contour Plots"
   ]
  },
  {
   "cell_type": "code",
   "execution_count": null,
   "metadata": {},
   "outputs": [],
   "source": [
    "# Make cartesian grid - contour plot\n",
    "side = np.linspace(-20, 20, 41)\n",
    "combinations = np.array(list(itertools.product(side, side, side)))\n",
    "x, y, z = combinations[:,0], combinations[:,1], combinations[:,2]\n",
    "r, theta, phi = cartesian_to_spherical(x, y, z)\n",
    "\n"
   ]
  }
 ],
 "metadata": {
  "kernelspec": {
   "display_name": "Python 3",
   "language": "python",
   "name": "python3"
  },
  "language_info": {
   "codemirror_mode": {
    "name": "ipython",
    "version": 3
   },
   "file_extension": ".py",
   "mimetype": "text/x-python",
   "name": "python",
   "nbconvert_exporter": "python",
   "pygments_lexer": "ipython3",
   "version": "3.7.6"
  }
 },
 "nbformat": 4,
 "nbformat_minor": 2
}
